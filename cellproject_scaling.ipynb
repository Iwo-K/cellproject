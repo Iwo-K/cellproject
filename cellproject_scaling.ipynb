{
 "cells": [
  {
   "cell_type": "markdown",
   "metadata": {},
   "source": [
    "# Why scaling method matters for scRNA-Seq integration"
   ]
  },
  {
   "cell_type": "markdown",
   "metadata": {
    "lines_to_next_cell": 2
   },
   "source": [
    "Author: Iwo Kucinski (https://github.com/Iwo-K/)"
   ]
  },
  {
   "cell_type": "markdown",
   "metadata": {},
   "source": [
    "Scaling (or zero-centering) of variables is a common pre-processing step of scRNA-Seq analysis. However, it requires some caution when combining datasets. This is because after scaling the relative expression is dependent on other cells present in the dataset. Hence, working with datasets pre-scaled separately is risky, particularly when datasets have different cell type compositions, and has a potential to cause large errors when integrating a small dataset into a larger reference landscape.\n",
    "\n",
    "In this notebook, we will present a simple (and exaggerated) illustration of this problem and consider the potential ramifications and solutions."
   ]
  },
  {
   "cell_type": "markdown",
   "metadata": {},
   "source": [
    "## Setup"
   ]
  },
  {
   "cell_type": "code",
   "execution_count": 37,
   "metadata": {},
   "outputs": [],
   "source": [
    "from anndata import AnnData\n",
    "import numpy as np\n",
    "import scanpy as sc\n",
    "import pandas as pd\n",
    "import cellproject as cp"
   ]
  },
  {
   "cell_type": "code",
   "execution_count": 38,
   "metadata": {},
   "outputs": [
    {
     "name": "stdout",
     "output_type": "stream",
     "text": [
      "The autoreload extension is already loaded. To reload it, use:\n",
      "  %reload_ext autoreload\n"
     ]
    }
   ],
   "source": [
    "%load_ext autoreload\n",
    "%autoreload 2"
   ]
  },
  {
   "cell_type": "markdown",
   "metadata": {},
   "source": [
    "## Scaling problem illustration"
   ]
  },
  {
   "cell_type": "markdown",
   "metadata": {},
   "source": [
    "### Data"
   ]
  },
  {
   "cell_type": "markdown",
   "metadata": {},
   "source": [
    "We will prepare datasets for two celltypes (hsc and meg) across two batches (hsc1 and hsc2/meg2) to illustrate the problem:\n",
    "\n",
    "- hsc1 and hsc2, 10 cells each with 100 normally distributed genes (same mean)\n",
    "- meg2, 10 cells with 50 genes with higher expression (Meg genes) and 50 genes with expression the same mean as in hsc1 and hsc2\n",
    "- hsc2 and meg2 are combined into a single batch hscmeg2"
   ]
  },
  {
   "cell_type": "code",
   "execution_count": 39,
   "metadata": {},
   "outputs": [],
   "source": [
    "#Generating simple data:\n",
    "hsc1 = AnnData(np.random.normal(10, 0.5, (10,100)),\n",
    "             obs = pd.DataFrame({'celltype' : ['hsc1']*10}, index = ['hsc1_' + str(i) for i in range(10)]) ,\n",
    "             var = pd.DataFrame(index = ['Meggene' + str(i) for i in range(50)] + ['stable' + str(i) for i in range(50)]))\n",
    "\n",
    "hsc2 = AnnData(np.random.normal(10, 0.5, (10,100)),\n",
    "             obs = pd.DataFrame({'celltype' : ['hsc2']*10}, index = ['hsc2_' + str(i) for i in range(10)]) ,\n",
    "             var = pd.DataFrame(index = ['Meggene' + str(i) for i in range(50)] + ['stable' + str(i) for i in range(50)]))\n",
    "\n",
    "meg2 = AnnData(np.concatenate((np.random.normal(40, 0.5, (10,50)), np.random.normal(10, 0.5, (10,50))), axis = 1),\n",
    "             obs = pd.DataFrame({'celltype' : ['meg2']*10}, index = ['meg2_' + str(i) for i in range(10)]) ,\n",
    "             var = pd.DataFrame(index = ['Meggene' + str(i) for i in range(50)] + ['stable' + str(i) for i in range(50)]))\n",
    "\n",
    "hscmeg2 = hsc2.concatenate(meg2)"
   ]
  },
  {
   "cell_type": "markdown",
   "metadata": {},
   "source": [
    "### Scaling combined data"
   ]
  },
  {
   "cell_type": "markdown",
   "metadata": {},
   "source": [
    "If we combine the two batches and scale them together we obtain exactly what is expected, hsc1 and hsc2 overlapping while meg2 population separated along PC1."
   ]
  },
  {
   "cell_type": "code",
   "execution_count": 40,
   "metadata": {},
   "outputs": [
    {
     "name": "stderr",
     "output_type": "stream",
     "text": [
      "... storing 'celltype' as categorical\n"
     ]
    },
    {
     "data": {
      "image/png": "[encoded data removed]",
      "text/plain": [
       "<Figure size 432x288 with 1 Axes>"
      ]
     },
     "metadata": {},
     "output_type": "display_data"
    }
   ],
   "source": [
    "#Calculating common PCA\n",
    "comb = hsc1.concatenate(hscmeg2)\n",
    "comb_scaled_together = sc.pp.scale(comb, copy = True)\n",
    "sc.tl.pca(comb_scaled_together, n_comps = 5)\n",
    "sc.pl.pca(comb_scaled_together, color = 'celltype', size = 200)"
   ]
  },
  {
   "cell_type": "markdown",
   "metadata": {},
   "source": [
    "### Scaling data separately"
   ]
  },
  {
   "cell_type": "markdown",
   "metadata": {},
   "source": [
    "If data is scaled separately, hsc1 population ends up in between hsc2 and meg2. This is because, in hsc1 cells the 'meg genes' have a mean close to 0, whereas the same genes in hsc2 cells have strongly negative values."
   ]
  },
  {
   "cell_type": "code",
   "execution_count": 41,
   "metadata": {},
   "outputs": [
    {
     "name": "stderr",
     "output_type": "stream",
     "text": [
      "... storing 'celltype' as categorical\n"
     ]
    },
    {
     "data": {
      "image/png": "[encoded data removed]",
      "text/plain": [
       "<Figure size 432x288 with 1 Axes>"
      ]
     },
     "metadata": {},
     "output_type": "display_data"
    }
   ],
   "source": [
    "#Calculating common PCA\n",
    "hsc1_scaled = sc.pp.scale(hsc1, copy = True)\n",
    "hscmeg2_scaled = sc.pp.scale(hscmeg2, copy = True)\n",
    "comb_scaled_separately = hsc1_scaled.concatenate(hscmeg2_scaled)\n",
    "sc.tl.pca(comb_scaled_separately, n_comps = 5)\n",
    "sc.pl.pca(comb_scaled_separately, color = 'celltype', size = 200)"
   ]
  },
  {
   "cell_type": "markdown",
   "metadata": {},
   "source": [
    "## Real problems and solutions"
   ]
  },
  {
   "cell_type": "markdown",
   "metadata": {},
   "source": [
    "Based on the example above there are two practical problems:\n",
    "\n",
    "1. Merging two separately scaled datasets is generally not a good idea. This is easily solved by just combinind log-normalised data first (or by matching the scaling parameters for the new dataste, see below).\n",
    "\n",
    "2. Scanpy by default zero-centers variables for the PCA calculation (regardless of prior scaling), which means that fitting new data into an existing (reference) PCA space should take into account expression means of the reference data. The `scanpy.tl.ingest` function does not account for the scaling problem."
   ]
  },
  {
   "cell_type": "markdown",
   "metadata": {},
   "source": [
    "As exemplied below, the ingest-corrected data, even run on correctly scaled data, shows separation between hsc1 and hsc2."
   ]
  },
  {
   "cell_type": "code",
   "execution_count": 42,
   "metadata": {},
   "outputs": [
    {
     "name": "stderr",
     "output_type": "stream",
     "text": [
      "/usr/local/lib/python3.9/site-packages/pandas/core/arrays/categorical.py:2487: FutureWarning: The `inplace` parameter in pandas.Categorical.remove_unused_categories is deprecated and will be removed in a future version.\n",
      "  res = method(*args, **kwargs)\n",
      "Trying to set attribute `.obs` of view, copying.\n",
      "... storing 'celltype' as categorical\n"
     ]
    },
    {
     "data": {
      "image/png": "[encoded data removed]",
      "text/plain": [
       "<Figure size 989.28x288 with 2 Axes>"
      ]
     },
     "metadata": {},
     "output_type": "display_data"
    }
   ],
   "source": [
    "hsc1_commonscale = comb_scaled_together[comb_scaled_together.obs.index[comb_scaled_together.obs.celltype == 'hsc1'],:]\n",
    "hscmeg2_commonscale = comb_scaled_together[comb_scaled_together.obs.index[comb_scaled_together.obs.celltype != 'hsc1'],:]\n",
    "\n",
    "hscmeg2_commonscale.obs['celltype_test'] = hscmeg2_commonscale.obs['celltype'].copy()\n",
    "sc.tl.pca(hscmeg2_commonscale, n_comps = 5)\n",
    "sc.pp.neighbors(hscmeg2_commonscale)\n",
    "sc.tl.ingest(hsc1_commonscale, hscmeg2_commonscale, obs='celltype_test', embedding_method='pca')\n",
    "\n",
    "ingested_commonscale = hsc1_commonscale.concatenate(hscmeg2_commonscale)\n",
    "sc.pl.pca(ingested_commonscale, color = ['celltype', 'celltype_test'], size = 200)"
   ]
  },
  {
   "cell_type": "markdown",
   "metadata": {},
   "source": [
    "This behaviour can be avoided by using the mean (and standard deviation) of the reference data to scale the projected data accordingly. PCA fitting in Cellproject takes this into account. Additionally cellproject can match scaling of the reference data so we we can supply scaled hsc2/meg2 data and un-scaled hsc1 values and set `scale_data=True`."
   ]
  },
  {
   "cell_type": "code",
   "execution_count": 43,
   "metadata": {},
   "outputs": [
    {
     "name": "stderr",
     "output_type": "stream",
     "text": [
      "... storing 'celltype' as categorical\n",
      "... storing 'ref_celltype' as categorical\n"
     ]
    },
    {
     "name": "stdout",
     "output_type": "stream",
     "text": [
      "Running a common scaling for target and reference data\n",
      "Fitting target data (.X) into reference PC space\n",
      "Using existing PCA rotation in .varm[\"PCs\"]\n",
      "No valid UMAP object provided, UMAP parameters left unmodified\n"
     ]
    },
    {
     "data": {
      "image/png": "[encoded data removed]",
      "text/plain": [
       "<Figure size 989.28x288 with 2 Axes>"
      ]
     },
     "metadata": {},
     "output_type": "display_data"
    }
   ],
   "source": [
    "sc.tl.pca(hscmeg2_scaled, n_comps = 5)\n",
    "\n",
    "cp.project_cells(hsc1, \n",
    "                 hscmeg2_scaled,\n",
    "                 k = 3,\n",
    "                 obs_columns = ['celltype'],\n",
    "                 scale_data = True,\n",
    "                 use_vargenes = False)\n",
    "hscmeg2_scaled.obs['ref_celltype'] = hscmeg2_scaled.obs['celltype'].copy()\n",
    "\n",
    "comb = hsc1.concatenate(hscmeg2_scaled)\n",
    "sc.pl.pca(comb, color = ['celltype', 'ref_celltype'], size = 200)"
   ]
  },
  {
   "cell_type": "markdown",
   "metadata": {},
   "source": [
    "Once we take the scaling into account the two datasets behave as expected."
   ]
  }
 ],
 "metadata": {
  "jupytext": {
   "formats": "ipynb,py:percent"
  },
  "kernelspec": {
   "display_name": "Python 3",
   "language": "python",
   "name": "python3"
  },
  "language_info": {
   "codemirror_mode": {
    "name": "ipython",
    "version": 3
   },
   "file_extension": ".py",
   "mimetype": "text/x-python",
   "name": "python",
   "nbconvert_exporter": "python",
   "pygments_lexer": "ipython3",
   "version": "3.9.1"
  }
 },
 "nbformat": 4,
 "nbformat_minor": 4
}
